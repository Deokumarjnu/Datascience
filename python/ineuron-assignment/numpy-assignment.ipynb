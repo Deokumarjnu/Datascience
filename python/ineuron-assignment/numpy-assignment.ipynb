{
 "cells": [
  {
   "cell_type": "markdown",
   "metadata": {},
   "source": [
    "1. Write a function so that the columns of the output matrix are powers of the input vector. The order of the powers is determined by the increasing boolean argument. Specifically, when increasing is False, the i-th output column is the input vector raised element-wise to the power of N - i - 1.\n",
    "\n",
    "<b>HINT</b>: Such a matrix with a geometric progression in each row is named for Alexandre-\n",
    "Theophile Vandermonde.\n",
    "\n",
    "2. Given a sequence of n values x1, x2, ..., xn and a window size k>0, the k-th moving average of the given sequence is defined as follows: The moving average sequence has n-k+1 elements as shown below. The moving averages with k=4 of a ten-value sequence (n=10) is shown below <br>\n",
    "i 1 2 3 4 5 6 7 8 9 10 <br>\n",
    "===== == == == == == == == == == ==<br>\n",
    "Input 10 20 30 40 50 60 70 80 90 100<br>\n",
    "y1 25 = (10+20+30+40)/4<br>\n",
    "y2 35 = (20+30+40+50)/4<br>\n",
    "y3 45 = (30+40+50+60)/4<br>\n",
    "y4 55 = (40+50+60+70)/4<br>\n",
    "y5 65 = (50+60+70+80)/4<br>\n",
    "y6 75 = (60+70+80+90)/4<br>\n",
    "y7 85 = (70+80+90+100)/4<br>\n",
    "Thus, the moving average sequence has n-k+1=10-4+1=7 values.<br>\n",
    "\n",
    "Question: Write a function to find moving average in an array over a window:\n",
    "Test it over [3, 5, 7, 2, 8, 10, 11, 65, 72, 81, 99, 100, 150] and window of 3."
   ]
  },
  {
   "cell_type": "code",
   "execution_count": 1,
   "metadata": {},
   "outputs": [
    {
     "data": {
      "text/plain": [
       "array([[  1,   1,   1,   1],\n",
       "       [  1,   2,   4,   8],\n",
       "       [  1,   3,   9,  27],\n",
       "       [  1,   5,  25, 125]])"
      ]
     },
     "execution_count": 1,
     "metadata": {},
     "output_type": "execute_result"
    }
   ],
   "source": [
    "# 1. Write a function so that the columns of the output matrix are powers of the input vector ....\n",
    "import numpy as np\n",
    "x = np.array([1, 2, 3, 5])\n",
    "np.vander(x)\n",
    "\n",
    "np.vander(x, increasing=True)"
   ]
  },
  {
   "cell_type": "code",
   "execution_count": 2,
   "metadata": {},
   "outputs": [
    {
     "name": "stdout",
     "output_type": "stream",
     "text": [
      "Moving average values\n",
      "5.0\n",
      "4.7\n",
      "5.7\n",
      "6.7\n",
      "9.7\n",
      "28.7\n",
      "49.3\n",
      "72.7\n",
      "84.0\n",
      "93.3\n",
      "116.3\n",
      "Length of the list l-N+1:  11\n"
     ]
    }
   ],
   "source": [
    "# 2. Write a function to find moving average in an array over a window: Test it over [3, 5, 7, 2, 8, 10, 11, 65, 72, 81, 99, 100, 150] and window of 3.\n",
    "\n",
    "import numpy as np\n",
    "def moving_avg(seq, w):\n",
    "    for i in range(len(seq)-w+1):\n",
    "        num = round((seq[i]+seq[i+1]+seq[i+2])/w, 1)\n",
    "        print(num)\n",
    "        \n",
    "arr = np.array([3, 5, 7, 2, 8, 10, 11, 65, 72, 81, 99, 100, 150])\n",
    "wind = 3\n",
    "print(\"Moving average values\")\n",
    "moving_avg(arr, wind)\n",
    "print(\"Length of the list l-N+1: \", len(arr)-wind+1)"
   ]
  },
  {
   "cell_type": "code",
   "execution_count": null,
   "metadata": {},
   "outputs": [],
   "source": []
  }
 ],
 "metadata": {
  "kernelspec": {
   "display_name": "Python 3",
   "language": "python",
   "name": "python3"
  },
  "language_info": {
   "codemirror_mode": {
    "name": "ipython",
    "version": 3
   },
   "file_extension": ".py",
   "mimetype": "text/x-python",
   "name": "python",
   "nbconvert_exporter": "python",
   "pygments_lexer": "ipython3",
   "version": "3.7.6"
  }
 },
 "nbformat": 4,
 "nbformat_minor": 4
}
